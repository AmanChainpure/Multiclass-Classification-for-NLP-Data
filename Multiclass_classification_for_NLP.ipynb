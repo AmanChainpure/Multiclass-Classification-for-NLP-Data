{
  "nbformat": 4,
  "nbformat_minor": 0,
  "metadata": {
    "colab": {
      "provenance": []
    },
    "kernelspec": {
      "name": "python3",
      "display_name": "Python 3"
    },
    "language_info": {
      "name": "python"
    }
  },
  "cells": [
    {
      "cell_type": "code",
      "source": [
        "# Importing Liabraries\n",
        "import pandas as pd\n",
        "import numpy as np\n",
        "from sklearn.feature_extraction.text import TfidfVectorizer\n",
        "from sklearn.ensemble import RandomForestClassifier\n",
        "from sklearn.svm import SVC\n",
        "from sklearn.model_selection import train_test_split\n",
        "from sklearn.pipeline import make_pipeline\n",
        "from sklearn.preprocessing import StandardScaler\n",
        "from sklearn.metrics.pairwise import cosine_similarity\n",
        "from sklearn.metrics import accuracy_score"
      ],
      "metadata": {
        "id": "B8RD2GOZQlU6"
      },
      "execution_count": 13,
      "outputs": []
    },
    {
      "cell_type": "code",
      "source": [
        "# Load the dataset\n",
        "data = pd.read_csv('/content/dataset_clause_config.csv')"
      ],
      "metadata": {
        "id": "faOUN1upQlXq"
      },
      "execution_count": 2,
      "outputs": []
    },
    {
      "cell_type": "code",
      "source": [
        "\n",
        "# Preprocessing tasks such as tokenization and character removal\n",
        "def preprocess_text(text):\n",
        "    # Tokenization (assuming words are separated by spaces)\n",
        "    tokens = text.split()\n",
        "    # Character removal (can be extended as needed)\n",
        "    tokens = [word.lower().strip(\".,!?\") for word in tokens]\n",
        "    return \" \".join(tokens)\n",
        "\n",
        "data['Paragraph'] = data['Paragraph'].apply(preprocess_text)"
      ],
      "metadata": {
        "id": "2hnyUEiWQlaR"
      },
      "execution_count": 3,
      "outputs": []
    },
    {
      "cell_type": "code",
      "source": [
        "# Classifying paragraphs into specific clauses using cosine similarity\n",
        "def classify_paragraph_cosine_similarity(new_paragraph, data):\n",
        "    tfidf_vectorizer = TfidfVectorizer()\n",
        "    tfidf_matrix = tfidf_vectorizer.fit_transform(data['Paragraph'])\n",
        "    new_tfidf = tfidf_vectorizer.transform([new_paragraph])\n",
        "    similarities = cosine_similarity(new_tfidf, tfidf_matrix)\n",
        "    max_index = np.argmax(similarities)\n",
        "    return data.iloc[max_index]['Clause']"
      ],
      "metadata": {
        "id": "JPbErMS1QldC"
      },
      "execution_count": 4,
      "outputs": []
    },
    {
      "cell_type": "code",
      "source": [
        "# Create a function to train a multi-stage classification model\n",
        "def train_multi_stage_model(data):\n",
        "    X_train, X_test, y_train, y_test = train_test_split(data['Paragraph'], data['Clause'], test_size=0.2, random_state=42)\n",
        "\n",
        "    # Stage 1: Vectorization\n",
        "    vectorizer = TfidfVectorizer()\n",
        "    X_train_vec = vectorizer.fit_transform(X_train)\n",
        "\n",
        "    # Stage 2: Classifier (Random Forest)\n",
        "    rf_classifier = RandomForestClassifier(n_estimators=100, random_state=42)\n",
        "    rf_classifier.fit(X_train_vec, y_train)\n",
        "\n",
        "    # Stage 3: Classifier (SVM)\n",
        "    svm_classifier = make_pipeline(StandardScaler(with_mean=False), SVC())\n",
        "    svm_classifier.fit(X_train_vec, y_train)\n",
        "\n",
        "    return vectorizer, rf_classifier, svm_classifier"
      ],
      "metadata": {
        "id": "akV521KzQlfi"
      },
      "execution_count": 5,
      "outputs": []
    },
    {
      "cell_type": "code",
      "source": [
        "# Function to classify a paragraph using multi-stage model\n",
        "def classify_paragraph_multi_stage(new_paragraph, vectorizer, rf_classifier, svm_classifier):\n",
        "    new_tfidf = vectorizer.transform([new_paragraph])\n",
        "    rf_prediction = rf_classifier.predict(new_tfidf)[0]\n",
        "    svm_prediction = svm_classifier.predict(new_tfidf)[0]\n",
        "    # Final prediction can be based on voting or any other logic\n",
        "    final_prediction = rf_prediction  # For simplicity, taking RF prediction as final\n",
        "    return final_prediction"
      ],
      "metadata": {
        "id": "Zg2iRM7DQliE"
      },
      "execution_count": 6,
      "outputs": []
    },
    {
      "cell_type": "code",
      "source": [
        "# Evaluate the model\n",
        "def evaluate_model(X_test, y_test, vectorizer, rf_classifier, svm_classifier):\n",
        "    X_test_vec = vectorizer.transform(X_test)\n",
        "    rf_predictions = rf_classifier.predict(X_test_vec)\n",
        "    svm_predictions = svm_classifier.predict(X_test_vec)\n",
        "    final_predictions = [rf_predictions[i] for i in range(len(rf_predictions))]\n",
        "    accuracy = accuracy_score(y_test, final_predictions)\n",
        "    return accuracy\n",
        "\n",
        "# Take input from the user\n",
        "new_paragraph = input(\"Enter the paragraph: \")\n",
        "\n",
        "# Train the multi-stage model\n",
        "vectorizer, rf_classifier, svm_classifier = train_multi_stage_model(data)\n",
        "\n",
        "# Classify the paragraph using the multi-stage model\n",
        "result = classify_paragraph_multi_stage(new_paragraph, vectorizer, rf_classifier, svm_classifier)\n",
        "print(\"Predicted Clause:\", result)"
      ],
      "metadata": {
        "colab": {
          "base_uri": "https://localhost:8080/"
        },
        "id": "qpD7mDTBRnZU",
        "outputId": "64f3bb50-abf2-402d-977c-02fcd3eb327d"
      },
      "execution_count": 10,
      "outputs": [
        {
          "output_type": "stream",
          "name": "stdout",
          "text": [
            "Enter the paragraph: Vessel not to be employed on consecutive short haul trades less than 15 days total.\n",
            "Predicted Clause: 2\n"
          ]
        }
      ]
    },
    {
      "cell_type": "code",
      "source": [
        "# Predict using cosine similarity\n",
        "cosine_similarity_result = classify_paragraph_cosine_similarity(new_paragraph, data)\n",
        "print(\"Result using cosine similarity method:\", cosine_similarity_result)"
      ],
      "metadata": {
        "colab": {
          "base_uri": "https://localhost:8080/"
        },
        "id": "SqLQawuuR4p-",
        "outputId": "74df732d-a2b3-4518-8aa7-bec2d27c8112"
      },
      "execution_count": 11,
      "outputs": [
        {
          "output_type": "stream",
          "name": "stdout",
          "text": [
            "Result using cosine similarity method: 2\n"
          ]
        }
      ]
    },
    {
      "cell_type": "code",
      "source": [
        "# Evaluate the multi-stage model\n",
        "X = data['Paragraph']\n",
        "y = data['Clause']\n",
        "X_train, X_test, y_train, y_test = train_test_split(X, y, test_size=0.2, random_state=42)\n",
        "accuracy = evaluate_model(X_test, y_test, vectorizer, rf_classifier, svm_classifier)\n",
        "print(\"Accuracy of the multi-stage model:\", accuracy)"
      ],
      "metadata": {
        "colab": {
          "base_uri": "https://localhost:8080/"
        },
        "id": "aYjg4ootQlkr",
        "outputId": "6bdd1f69-e820-4908-b7bf-cad9c24f2fe8"
      },
      "execution_count": 14,
      "outputs": [
        {
          "output_type": "stream",
          "name": "stdout",
          "text": [
            "Accuracy of the multi-stage model: 0.6744186046511628\n"
          ]
        }
      ]
    },
    {
      "cell_type": "code",
      "source": [
        "# Evaluate cosine similarity method\n",
        "y_test_cosine = [classify_paragraph_cosine_similarity(paragraph, data) for paragraph in X_test]\n",
        "accuracy_cosine = accuracy_score(y_test, y_test_cosine)\n",
        "print(\"Accuracy of the cosine similarity method:\", accuracy_cosine)"
      ],
      "metadata": {
        "colab": {
          "base_uri": "https://localhost:8080/"
        },
        "id": "PiaD-uWLRXgx",
        "outputId": "aac032b7-bee1-43d1-fe17-7a95f80628b0"
      },
      "execution_count": 15,
      "outputs": [
        {
          "output_type": "stream",
          "name": "stdout",
          "text": [
            "Accuracy of the cosine similarity method: 0.9883720930232558\n"
          ]
        }
      ]
    }
  ]
}